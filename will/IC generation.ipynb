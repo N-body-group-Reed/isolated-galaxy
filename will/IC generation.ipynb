{
 "cells": [
  {
   "cell_type": "code",
   "execution_count": 2,
   "metadata": {},
   "outputs": [],
   "source": [
    "import numpy as np\n",
    "from pynbody import array, new, snapshot, units\n",
    "from pynbody import gadget, grafic, nchilada, ramses, tipsy\n",
    "import pynbody as pyn\n",
    "import math"
   ]
  },
  {
   "cell_type": "code",
   "execution_count": 95,
   "metadata": {},
   "outputs": [],
   "source": [
    "sim = pyn.new(1000)\n",
    "sim['pos'] = np.random.normal(scale=1.0,size=sim['pos'].shape)\n",
    "sim['vel'] = np.random.normal(scale=1.0,size=sim['vel'].shape)\n",
    "sim['mass'] = np.random.normal(1.0, 2.0,size=sim['mass'].shape)\n",
    "sim['eps'] = .1\n",
    "sim['pos'].units= 'kpc'\n",
    "sim['vel'].units= 'km s^-1'\n",
    "sim['mass'].units= 'Msol'"
   ]
  },
  {
   "cell_type": "code",
   "execution_count": 96,
   "metadata": {},
   "outputs": [
    {
     "name": "stderr",
     "output_type": "stream",
     "text": [
      "/home/willlum/.local/lib/python3.6/site-packages/pynbody/simdict.py:92: RuntimeWarning: Assuming default value for property 'a'=1.00e+00\n",
      "  name, value), RuntimeWarning)\n"
     ]
    }
   ],
   "source": [
    "sim.write(tipsy.TipsySnap,'writeTest.out')"
   ]
  },
  {
   "cell_type": "code",
   "execution_count": 97,
   "metadata": {},
   "outputs": [],
   "source": [
    "sim2 = pyn.new(gas=1000,star=1000,dm=1000)"
   ]
  },
  {
   "cell_type": "code",
   "execution_count": 98,
   "metadata": {},
   "outputs": [],
   "source": [
    "sim2.dm['pos'] = np.random.normal(scale=1.0,size=sim2.dm['pos'].shape)"
   ]
  },
  {
   "cell_type": "code",
   "execution_count": 3,
   "metadata": {},
   "outputs": [],
   "source": []
  },
  {
   "cell_type": "code",
   "execution_count": 40,
   "metadata": {},
   "outputs": [],
   "source": [
    "def noahDenFunc(r):\n",
    "    return ((1+20*r/1.5)**(-.75)*(1+r/7.5)**(-2.5)/3.96716)\n",
    "def dmHaloFunc(r):\n",
    "    return ((1/((1+r/10.0)**3))/250.87)\n",
    "def vr(r):\n",
    "    return r*(1+2*r)**(-7/8)*(1+r/5)**(-5/8)\n",
    "def velX(r,theta, rotafunc):\n",
    "    return math.cos(theta)*rotafunc(r)\n",
    "def velY(r,theta, rotafunc):\n",
    "    return math.sin(theta)*rotafunc(r)\n",
    "def genPartList(rmax,ntot,nbins,denFunc,rotafunc): #assumes radial symmetry on function. Produces list of particles locations.\n",
    "    n=0.0 \n",
    "    starList=[]\n",
    "    velList=[]\n",
    "    dr = rmax/nbins #nbins is the \"specificity\" of the distribution, ntot is the average number of particles, rmax is the cutoff radius of the disk.\n",
    "    while n < ntot:\n",
    "        r=0.0\n",
    "        while r < rmax: #important to note that rmax is a hard cutoff.\n",
    "            if(np.random.random()< denFunc(r+dr/2)*r*dr*2*math.pi):\n",
    "                rt=r+np.random.random()*dr\n",
    "                thetem=np.random.random()*2*math.pi\n",
    "                x=rt*math.cos(thetem)\n",
    "                vx=velX(rt,thetem,rotafunc)\n",
    "                y=rt*math.sin(thetem)\n",
    "                vy=velY(rt,thetem,rotafunc)\n",
    "                z=np.random.normal(-.1,.1) #sort of a placeholder: will add distribution option eventually.\n",
    "                vz=np.random.normal(-.1,.1) #same as above.\n",
    "                starList.append([x,y,z])\n",
    "                velList.append([vx,vy,vz])\n",
    "            r+=dr\n",
    "        n+=1\n",
    "    return [starList,velList]"
   ]
  },
  {
   "cell_type": "code",
   "execution_count": null,
   "metadata": {},
   "outputs": [],
   "source": []
  },
  {
   "cell_type": "code",
   "execution_count": 41,
   "metadata": {},
   "outputs": [
    {
     "data": {
      "text/plain": [
       "1937"
      ]
     },
     "execution_count": 41,
     "metadata": {},
     "output_type": "execute_result"
    }
   ],
   "source": [
    "starList = genPartList(10.5,2000,1000,noahDenFunc,vr)\n",
    "dmList = genPartList(84.0,18000,5000,dmHaloFunc,vr)\n",
    "\n",
    "len(starList[0])"
   ]
  },
  {
   "cell_type": "code",
   "execution_count": 43,
   "metadata": {},
   "outputs": [
    {
     "name": "stderr",
     "output_type": "stream",
     "text": [
      "/home/willlum/.local/lib/python3.6/site-packages/pynbody/simdict.py:92: RuntimeWarning: Assuming default value for property 'a'=1.00e+00\n",
      "  name, value), RuntimeWarning)\n"
     ]
    }
   ],
   "source": [
    "noahSim = pyn.new(star=len(starList[0]),dm=len(dmList[0]))\n",
    "noahSim.star['pos']=starList[0]\n",
    "noahSim.star['vel']=starList[1]\n",
    "noahSim.star['eps']=.075\n",
    "noahSim.star['mass']=50000000\n",
    "noahSim.dm['pos']=dmList[0]\n",
    "noahSim.dm['vel']=dmList[1]\n",
    "noahSim.dm['eps']=.075\n",
    "noahSim.dm['mass']=50000000\n",
    "noahSim['pos'].units= 'kpc'\n",
    "noahSim['vel'].units= 'km s^-1'\n",
    "noahSim['mass'].units= 'Msol'\n",
    "noahSim.write(tipsy.TipsySnap,'noahSim.out')"
   ]
  },
  {
   "cell_type": "code",
   "execution_count": 13,
   "metadata": {},
   "outputs": [],
   "source": [
    "def velX(x,y):\n",
    "    r= np.sqrt(x**2+y**2)\n",
    "    thet= np.arctan2(y,x)\n",
    "    vr= r*(1+2*r)**(-7/8)*(1+r/5)**(-5/8)  #rotation curve from Sellwood et. al.\n",
    "    vx= vr*np.cos(thet)*vr\n",
    "    return vx\n",
    "def velY(x,y):\n",
    "    r= np.sqrt(x**2+y**2)\n",
    "    thet= np.arctan2(y,x)\n",
    "    vr= r*(1+2*r)**(-7/8)*(1+r/5)**(-5/8) #rotation curve from Sellwood et. al.\n",
    "    vx= vr*np.sin(thet)*vr\n",
    "    return vx"
   ]
  },
  {
   "cell_type": "code",
   "execution_count": 11,
   "metadata": {},
   "outputs": [
    {
     "ename": "SyntaxError",
     "evalue": "invalid syntax (<ipython-input-11-436e132e3782>, line 2)",
     "output_type": "error",
     "traceback": [
      "\u001b[0;36m  File \u001b[0;32m\"<ipython-input-11-436e132e3782>\"\u001b[0;36m, line \u001b[0;32m2\u001b[0m\n\u001b[0;31m    sim3 = pyn.new(,dm=9000)\u001b[0m\n\u001b[0m                   ^\u001b[0m\n\u001b[0;31mSyntaxError\u001b[0m\u001b[0;31m:\u001b[0m invalid syntax\n"
     ]
    }
   ],
   "source": [
    "\n",
    "sim3 = pyn.new(,dm=9000)\n",
    "sim3.star['x'] = np.random.normal(-10.5,10.5)\n",
    "sim3.star['vz'] = np.random.normal(-.1,.1)\n",
    "sim3.star['vx'] = velX(sim3.star['x'],sim3.star['y'])\n",
    "sim3.star['vy'] = velY(sim3.star['x'],sim3.star['y'])\n",
    "sim3.star['mass'] = np.random.normal(1.0, 2.0,size=sim3.star['mass'].shape)\n",
    "sim3.star['eps'] = .01\n",
    "sim3.dm['pos'] = np.random.normal(scale=1.0,size=sim3.dm['pos'].shape)\n",
    "sim3.dm['mass'] = np.random.normal(-1.5, 1.5)\n",
    "sim3.dm['vx'] = velX(sim3.dm['x'],sim3.dm['y'])\n",
    "sim3.dm['vy'] = velY(sim3.dm['x'],sim3.dm['y'])\n",
    "sim3.dm['eps'] = .075\n",
    "sim3['pos'].units= 'kpc'\n",
    "sim3['vel'].units= 'km s^-1'\n",
    "sim3['mass'].units= 'Msol'"
   ]
  },
  {
   "cell_type": "code",
   "execution_count": 75,
   "metadata": {},
   "outputs": [
    {
     "name": "stderr",
     "output_type": "stream",
     "text": [
      "/home/willlum/.local/lib/python3.6/site-packages/pynbody/simdict.py:92: RuntimeWarning: Assuming default value for property 'a'=1.00e+00\n",
      "  name, value), RuntimeWarning)\n"
     ]
    }
   ],
   "source": [
    "sim3.write(tipsy.TipsySnap,'starTest.out')"
   ]
  },
  {
   "cell_type": "code",
   "execution_count": 10,
   "metadata": {},
   "outputs": [
    {
     "ename": "SyntaxError",
     "evalue": "invalid syntax (<ipython-input-10-3344b3893ac4>, line 1)",
     "output_type": "error",
     "traceback": [
      "\u001b[0;36m  File \u001b[0;32m\"<ipython-input-10-3344b3893ac4>\"\u001b[0;36m, line \u001b[0;32m1\u001b[0m\n\u001b[0;31m    def distributor(pyn.simAarray ):\u001b[0m\n\u001b[0m                       ^\u001b[0m\n\u001b[0;31mSyntaxError\u001b[0m\u001b[0;31m:\u001b[0m invalid syntax\n"
     ]
    }
   ],
   "source": [
    "def distributor(pyn.simAarray ):\n",
    "    "
   ]
  },
  {
   "cell_type": "code",
   "execution_count": 70,
   "metadata": {},
   "outputs": [
    {
     "data": {
      "text/plain": [
       "SimArray([[ 1.90599591e-02, -1.21631304e-01,  7.71207101e-01],\n",
       "          [-9.57954439e-02,  7.45260382e-02,  4.25875909e-01],\n",
       "          [-2.90810551e-02,  4.38282435e-02,  8.79135903e-01],\n",
       "          ...,\n",
       "          [ 5.28715682e-02,  6.40297805e-04, -1.79307060e+00],\n",
       "          [ 7.72516819e-02, -8.45732241e-02, -1.51710097e+00],\n",
       "          [-1.00083983e-01, -6.54836494e-02, -7.32993575e-01]], 'km s**-1')"
      ]
     },
     "execution_count": 70,
     "metadata": {},
     "output_type": "execute_result"
    }
   ],
   "source": [
    "sim3.dm['vel']\n"
   ]
  },
  {
   "cell_type": "code",
   "execution_count": 86,
   "metadata": {},
   "outputs": [],
   "source": [
    "sim3.star['pos']=[[1,2,3],[1,1,2]]\n"
   ]
  },
  {
   "cell_type": "code",
   "execution_count": 89,
   "metadata": {},
   "outputs": [
    {
     "data": {
      "text/plain": [
       "SimArray([2., 1.], 'kpc')"
      ]
     },
     "execution_count": 89,
     "metadata": {},
     "output_type": "execute_result"
    }
   ],
   "source": [
    "sim3.star['y']"
   ]
  },
  {
   "cell_type": "code",
   "execution_count": null,
   "metadata": {},
   "outputs": [],
   "source": []
  },
  {
   "cell_type": "code",
   "execution_count": null,
   "metadata": {},
   "outputs": [],
   "source": []
  }
 ],
 "metadata": {
  "kernelspec": {
   "display_name": "Python 3",
   "language": "python",
   "name": "python3"
  },
  "language_info": {
   "codemirror_mode": {
    "name": "ipython",
    "version": 3
   },
   "file_extension": ".py",
   "mimetype": "text/x-python",
   "name": "python",
   "nbconvert_exporter": "python",
   "pygments_lexer": "ipython3",
   "version": "3.6.8"
  }
 },
 "nbformat": 4,
 "nbformat_minor": 2
}
