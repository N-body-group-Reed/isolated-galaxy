{
 "cells": [
  {
   "cell_type": "code",
   "execution_count": 63,
   "metadata": {},
   "outputs": [],
   "source": [
    "import numpy as np\n",
    "from pynbody import array, new, snapshot, units\n",
    "from pynbody import gadget, grafic, nchilada, ramses, tipsy\n",
    "import pynbody as pyn\n",
    "import math\n",
    "import pynbody.plot.sph as sph\n",
    "import matplotlib.pylab as plt\n",
    "import scipy"
   ]
  },
  {
   "cell_type": "code",
   "execution_count": 47,
   "metadata": {},
   "outputs": [],
   "source": [
    "#First attempt at initialization\n",
    "sim = pyn.new(1000)\n",
    "sim['pos'] = np.random.normal(scale=1.0,size=sim['pos'].shape)\n",
    "sim['vel'] = np.random.normal(scale=1.0,size=sim['vel'].shape)\n",
    "sim['mass'] = np.random.normal(1.0, 2.0,size=sim['mass'].shape)\n",
    "sim['eps'] = .1\n",
    "sim['pos'].units= 'kpc'\n",
    "sim['vel'].units= 'km s^-1'\n",
    "sim['mass'].units= 'Msol'"
   ]
  },
  {
   "cell_type": "code",
   "execution_count": 96,
   "metadata": {},
   "outputs": [
    {
     "name": "stderr",
     "output_type": "stream",
     "text": [
      "/home/willlum/.local/lib/python3.6/site-packages/pynbody/simdict.py:92: RuntimeWarning: Assuming default value for property 'a'=1.00e+00\n",
      "  name, value), RuntimeWarning)\n"
     ]
    }
   ],
   "source": [
    "#writing out: first argument determines what kind of file it outputs as. not sure what default is, or if there is one.\n",
    "sim.write(tipsy.TipsySnap,'writeTest.out')"
   ]
  },
  {
   "cell_type": "code",
   "execution_count": 79,
   "metadata": {},
   "outputs": [],
   "source": [
    "#seeing if different kinds of particles can be initialized.\n",
    "sim3 = pyn.new(gas=1000,star=1000,dm=1000)"
   ]
  },
  {
   "cell_type": "code",
   "execution_count": 81,
   "metadata": {},
   "outputs": [],
   "source": [
    "sim3.dm['pos'] = np.random.normal(scale=1.0,size=sim3.dm['pos'].shape)"
   ]
  },
  {
   "cell_type": "code",
   "execution_count": 48,
   "metadata": {},
   "outputs": [],
   "source": [
    "#early attempt at initializi\n",
    "def velX(x,y):\n",
    "    r= np.sqrt(x**2+y**2)\n",
    "    thet= np.arctan2(y,x)\n",
    "    vr= r*(1+2*r)**(-7/8)*(1+r/5)**(-5/8)  #rotation curve from Sellwood et. al.\n",
    "    vx= vr*np.cos(thet)*vr\n",
    "    return vx\n",
    "def velY(x,y):\n",
    "    r= np.sqrt(x**2+y**2)\n",
    "    thet= np.arctan2(y,x)\n",
    "    vr= r*(1+2*r)**(-7/8)*(1+r/5)**(-5/8) #rotation curve from Sellwood et. al.\n",
    "    vx= vr*np.sin(thet)*vr\n",
    "    return vx\n",
    "sim3 = pyn.new(star=1000,dm=9000)\n",
    "sim3.star['x'] = np.random.normal(-10.5,10.5)\n",
    "sim3.star['vz'] = np.random.normal(-.1,.1)\n",
    "sim3.star['vx'] = velX(sim3.star['x'],sim3.star['y'])\n",
    "sim3.star['vy'] = velY(sim3.star['x'],sim3.star['y'])\n",
    "sim3.star['mass'] = np.random.normal(1.0, 2.0,size=sim3.star['mass'].shape)\n",
    "sim3.star['eps'] = .01\n",
    "sim3.dm['pos'] = np.random.normal(scale=1.0,size=sim3.dm['pos'].shape)\n",
    "sim3.dm['mass'] = np.random.normal(-1.5, 1.5)\n",
    "sim3.dm['vx'] = velX(sim3.dm['x'],sim3.dm['y'])\n",
    "sim3.dm['vy'] = velY(sim3.dm['x'],sim3.dm['y'])\n",
    "sim3.dm['eps'] = .075\n",
    "sim3['pos'].units= 'kpc'\n",
    "sim3['vel'].units= 'km s^-1'\n",
    "sim3['mass'].units= 'Msol'"
   ]
  },
  {
   "cell_type": "code",
   "execution_count": 151,
   "metadata": {},
   "outputs": [],
   "source": [
    "#\n",
    "# Some \"helper\" functions to feed into genPartList\n",
    "#\n",
    "def noahDenFunc(r):\n",
    "    return ((1+20*r*1/1.5)**(-.75)*(1+r*1/7.5)**(-2.5)/3.96716)\n",
    "def dmHaloFunc(r):\n",
    "    return ((1/((1+r/10.0)**3))/250.87)\n",
    "def vr(r):\n",
    "    return r/1.5*(1+2*r/1.5)**(-.875)*(1+r/7.5)**(-.625)\n",
    "def velX(r,theta, rotafunc):\n",
    "    return math.cos(theta)*rotafunc(r)\n",
    "def velY(r,theta, rotafunc):\n",
    "    return math.sin(theta)*rotafunc(r)\n",
    "#\n",
    "# Generates a list of three different lists, in order: [x,y,z] position, [x,y,z] velocity, and radius.\n",
    "# Overall goal is to generate particles that roughly correspond to a specific density distribution.\n",
    "#\n",
    "def genPartList(rmax,ntot,nbins,denFunc,rotafunc): #assumes radial symmetry on function. Produces list of particles locations.\n",
    "    n=0.0 \n",
    "    starList=[]\n",
    "    velList=[]\n",
    "    rList=[]\n",
    "    dr = rmax/nbins #nbins is the \"specificity\" of the distribution, ntot is the average number of particles, rmax is the cutoff radius of the disk.\n",
    "    while n < ntot:\n",
    "        r=0.0\n",
    "        while r < rmax: #important to note that rmax is a hard cutoff.\n",
    "            if(np.random.random() < denFunc(r+dr/2)*r*dr*2*math.pi):\n",
    "                rt=r+np.random.random()*dr\n",
    "                thetem=np.random.random()*2*math.pi\n",
    "                x=rt*math.cos(thetem)\n",
    "                vx=velX(rt,thetem,rotafunc)\n",
    "                y=rt*math.sin(thetem)\n",
    "                vy=velY(rt,thetem,rotafunc)\n",
    "                z=0#np.random.normal(0,.105) #sort of a placeholder: will add distribution option eventually.\n",
    "                vz=0 #same as above.\n",
    "                starList.append([x,y,z])\n",
    "                velList.append([vx,vy,vz])\n",
    "                rList.append(rt)\n",
    "            r+=dr\n",
    "        n+=1\n",
    "    return [starList,velList,rList]"
   ]
  },
  {
   "cell_type": "code",
   "execution_count": 152,
   "metadata": {},
   "outputs": [],
   "source": [
    "#\n",
    "# Standard simpson integral\n",
    "#\n",
    "def simpson(f, xn,x0,n):\n",
    "    x=f(x0)+f(xn)\n",
    "    dx=(xn-x0)/n\n",
    "    k=1\n",
    "    while k <= n-1:\n",
    "        x+=4*f(x0+k*dx)\n",
    "        k+=2\n",
    "    k=2\n",
    "    while k <= n-2:\n",
    "        x+=2*f(x0+k*dx)\n",
    "        k+=2\n",
    "    return x*dx/3\n",
    "#\n",
    "# Calculator for initial potential. uses simpson integral.\n",
    "#\n",
    "def calcPhi(f, r, nbin): #figure out how to calculate gravitational potential of the simulation\n",
    "    return simpson(f,r,0,nbin)"
   ]
  },
  {
   "cell_type": "code",
   "execution_count": 153,
   "metadata": {},
   "outputs": [],
   "source": [
    "#\n",
    "# Some specific potential functions. collapses into single function for sake of simpson integration.\n",
    "#\n",
    "def starpot(r):\n",
    "    return noahDenFunc(r)*2*math.pi*r*np.heaviside(10.5-r,1)\n",
    "def dmpot(r):\n",
    "    return dmHaloFunc(r)*2*math.pi*r"
   ]
  },
  {
   "cell_type": "code",
   "execution_count": 154,
   "metadata": {},
   "outputs": [
    {
     "data": {
      "text/plain": [
       "17906"
      ]
     },
     "execution_count": 154,
     "metadata": {},
     "output_type": "execute_result"
    }
   ],
   "source": [
    "starList = genPartList(10.5,2000,1000,noahDenFunc,vr)\n",
    "dmList = genPartList(84.0,18000,1000,dmHaloFunc,vr)\n",
    "#\n",
    "#\n",
    "len(dmList[0]) #just there to see if particle counts were correct"
   ]
  },
  {
   "cell_type": "code",
   "execution_count": 159,
   "metadata": {},
   "outputs": [],
   "source": [
    "noahSim = pyn.new(star=len(starList[0]),dm=len(dmList[0]))\n",
    "#\n",
    "noahSim['pos'].units= 'kpc'\n",
    "noahSim['vel'].units= 'km s^-1'\n",
    "noahSim['mass'].units= 'Msol'\n",
    "#\n",
    "sl2=np.asarray(starList[2])#translating from one file format to another: functions will take np arrays, but not lists\n",
    "dl2=np.asarray(dmList[2])# \n",
    "#\n",
    "# Setting position, velocity, softening length, mass, and potential for stars\n",
    "#\n",
    "noahSim.star['pos']=starList[0]\n",
    "noahSim.star['vel']=starList[1]\n",
    "noahSim.star['eps']=.075\n",
    "noahSim.star['mass']=50000000\n",
    "noahSim.star['phi']=(calcPhi(starpot,sl2,1000)*len(sl2)+calcPhi(dmpot,sl2,84)*len(dl2))\n",
    "#\n",
    "# Same as above, but for dark matter\n",
    "#\n",
    "noahSim.dm['pos']=dmList[0]\n",
    "noahSim.dm['vel']=dmList[1]\n",
    "noahSim.dm['eps']=.075\n",
    "noahSim.dm['mass']=50000000\n",
    "noahSim.dm['phi']=(calcPhi(starpot,dl2,1000)*len(sl2)+calcPhi(dmpot,dl2,84)*len(dl2))\n",
    "#\n",
    "noahSim['a']=1.5 #not wure what this is for\n",
    "#\n",
    "# Setting units and outputting .out into curent folder.\n",
    "#\n",
    "#noahSim.write(tipsy.TipsySnap,'proten.out')"
   ]
  },
  {
   "cell_type": "code",
   "execution_count": 162,
   "metadata": {},
   "outputs": [
    {
     "data": {
      "text/plain": [
       "SimArray([[2.0637297e-06, 2.0637297e-06, 2.0637297e-06, ...,\n",
       "           2.0637297e-06, 2.0637297e-06, 2.0637297e-06],\n",
       "          [2.0637297e-06, 2.0637297e-06, 2.0637297e-06, ...,\n",
       "           2.0637297e-06, 2.0637297e-06, 2.0637297e-06],\n",
       "          [2.0637297e-06, 2.0637297e-06, 2.0637297e-06, ...,\n",
       "           2.0637297e-06, 2.0637297e-06, 2.0637297e-06],\n",
       "          ...,\n",
       "          [2.0637297e-06, 2.0637297e-06, 2.0637297e-06, ...,\n",
       "           2.0637297e-06, 2.0637297e-06, 2.0637297e-06],\n",
       "          [2.0637297e-06, 2.0637297e-06, 2.0637297e-06, ...,\n",
       "           2.0637297e-06, 2.0637297e-06, 2.0637297e-06],\n",
       "          [2.0637297e-06, 2.0637297e-06, 2.0637297e-06, ...,\n",
       "           2.0637297e-06, 2.0637297e-06, 2.0637297e-06]], dtype=float32, 'Msol kpc**-3')"
      ]
     },
     "execution_count": 162,
     "metadata": {},
     "output_type": "execute_result"
    },
    {
     "data": {
      "image/png": "[encoded data removed]",
      "text/plain": [
       "<Figure size 432x288 with 2 Axes>"
      ]
     },
     "metadata": {},
     "output_type": "display_data"
    }
   ],
   "source": [
    "#Taking a quick look at the initial stuff distribution of this sim.\n",
    "noahSim.physical_units()\n",
    "pyn.analysis.angmom.faceon(noahSim)\n",
    "sph.image(noahSim.dm,width=200,cmap='Reds')"
   ]
  },
  {
   "cell_type": "code",
   "execution_count": 161,
   "metadata": {},
   "outputs": [
    {
     "name": "stderr",
     "output_type": "stream",
     "text": [
      "pynbody.analysis.profile : Profile v_circ -- this routine assumes the disk is in the x-y plane\n",
      "pynbody.analysis.profile : Profile v_circ -- this routine assumes the disk is in the x-y plane\n",
      "pynbody.analysis.profile : Profile v_circ -- this routine assumes the disk is in the x-y plane\n",
      "pynbody.analysis.profile : Profile v_circ -- this routine assumes the disk is in the x-y plane\n"
     ]
    },
    {
     "ename": "AttributeError",
     "evalue": "'Profile' object has no attribute 'p'",
     "output_type": "error",
     "traceback": [
      "\u001b[0;31m---------------------------------------------------------------------------\u001b[0m",
      "\u001b[0;31mAttributeError\u001b[0m                            Traceback (most recent call last)",
      "\u001b[0;32m<ipython-input-161-1844e5dfda43>\u001b[0m in \u001b[0;36m<module>\u001b[0;34m()\u001b[0m\n\u001b[1;32m     15\u001b[0m \u001b[0mplt\u001b[0m\u001b[0;34m.\u001b[0m\u001b[0mylabel\u001b[0m\u001b[0;34m(\u001b[0m\u001b[0;34mr'$v_c$ [km/s]'\u001b[0m\u001b[0;34m)\u001b[0m\u001b[0;34m\u001b[0m\u001b[0;34m\u001b[0m\u001b[0m\n\u001b[1;32m     16\u001b[0m \u001b[0mplt\u001b[0m\u001b[0;34m.\u001b[0m\u001b[0mlegend\u001b[0m\u001b[0;34m(\u001b[0m\u001b[0;34m)\u001b[0m\u001b[0;34m\u001b[0m\u001b[0;34m\u001b[0m\u001b[0m\n\u001b[0;32m---> 17\u001b[0;31m \u001b[0mp\u001b[0m\u001b[0;34m.\u001b[0m\u001b[0mp\u001b[0m\u001b[0;34m\u001b[0m\u001b[0;34m\u001b[0m\u001b[0m\n\u001b[0m",
      "\u001b[0;31mAttributeError\u001b[0m: 'Profile' object has no attribute 'p'"
     ]
    },
    {
     "data": {
      "image/png": "[encoded data removed]",
      "text/plain": [
       "<Figure size 432x288 with 1 Axes>"
      ]
     },
     "metadata": {},
     "output_type": "display_data"
    }
   ],
   "source": [
    "#initial rotation curve for the sim.\n",
    "noahSim.physical_units()\n",
    "p = pyn.analysis.profile.Profile(noahSim,min=.01,max=250,type='log',ndim=3)\n",
    "pg = pyn.analysis.profile.Profile(noahSim.g,min=.01,max=250,type='log',ndim=3)\n",
    "ps = pyn.analysis.profile.Profile(noahSim.s,min=.01,max=250,type='log',ndim=3)\n",
    "pd = pyn.analysis.profile.Profile(noahSim.d,min=.01,max=250,type='log',ndim=3)\n",
    "\n",
    "# make the plot\n",
    "plt.plot(p['rbins'],p['v_circ'],label='total')\n",
    "plt.plot(pg['rbins'],pg['v_circ'],label='gas')\n",
    "plt.plot(ps['rbins'],ps['v_circ'],label='stars')\n",
    "plt.plot(pd['rbins'],pd['v_circ'],label='dm')\n",
    "\n",
    "plt.xlabel('R [kpc]')\n",
    "plt.ylabel(r'$v_c$ [km/s]')\n",
    "plt.legend()\n",
    "p.p"
   ]
  },
  {
   "cell_type": "code",
   "execution_count": 134,
   "metadata": {},
   "outputs": [
    {
     "name": "stderr",
     "output_type": "stream",
     "text": [
      "Exception in thread Thread-257:\n",
      "Traceback (most recent call last):\n",
      "  File \"/usr/lib/python3.6/threading.py\", line 916, in _bootstrap_inner\n",
      "    self.run()\n",
      "  File \"/usr/lib/python3.6/threading.py\", line 864, in run\n",
      "    self._target(*self._args, **self._kwargs)\n",
      "  File \"/home/willlum/.local/lib/python3.6/site-packages/pynbody/sph/__init__.py\", line 440, in bridge\n",
      "    X = fn(*args[1:], **kwargs)\n",
      "  File \"/home/willlum/.local/lib/python3.6/site-packages/pynbody/sph/__init__.py\", line 422, in render_fn\n",
      "    base = fn(*args, **kwargs)\n",
      "  File \"/home/willlum/.local/lib/python3.6/site-packages/pynbody/sph/__init__.py\", line 572, in _render_image\n",
      "    snap_proxy[arname] = snap[arname]\n",
      "  File \"/home/willlum/.local/lib/python3.6/site-packages/pynbody/snapshot/__init__.py\", line 264, in __getitem__\n",
      "    return self._get_array_with_lazy_actions(i)\n",
      "  File \"/home/willlum/.local/lib/python3.6/site-packages/pynbody/snapshot/__init__.py\", line 351, in _get_array_with_lazy_actions\n",
      "    self.__resolve_obscuring_family_array(name)\n",
      "  File \"/home/willlum/.local/lib/python3.6/site-packages/pynbody/snapshot/__init__.py\", line 384, in __resolve_obscuring_family_array\n",
      "    name, in_fam, out_fam))\n",
      "KeyError: \"'smooth' is a family-level array for [<Family dm>]. To use it over the whole simulation you need either to delete it first, or create it separately for [<Family star>].\"\n",
      "\n",
      "Exception in thread Thread-258:\n",
      "Traceback (most recent call last):\n",
      "  File \"/usr/lib/python3.6/threading.py\", line 916, in _bootstrap_inner\n",
      "    self.run()\n",
      "  File \"/usr/lib/python3.6/threading.py\", line 864, in run\n",
      "    self._target(*self._args, **self._kwargs)\n",
      "  File \"/home/willlum/.local/lib/python3.6/site-packages/pynbody/sph/__init__.py\", line 440, in bridge\n",
      "    X = fn(*args[1:], **kwargs)\n",
      "  File \"/home/willlum/.local/lib/python3.6/site-packages/pynbody/sph/__init__.py\", line 422, in render_fn\n",
      "    base = fn(*args, **kwargs)\n",
      "  File \"/home/willlum/.local/lib/python3.6/site-packages/pynbody/sph/__init__.py\", line 572, in _render_image\n",
      "    snap_proxy[arname] = snap[arname]\n",
      "  File \"/home/willlum/.local/lib/python3.6/site-packages/pynbody/snapshot/__init__.py\", line 264, in __getitem__\n",
      "    return self._get_array_with_lazy_actions(i)\n",
      "  File \"/home/willlum/.local/lib/python3.6/site-packages/pynbody/snapshot/__init__.py\", line 351, in _get_array_with_lazy_actions\n",
      "    self.__resolve_obscuring_family_array(name)\n",
      "  File \"/home/willlum/.local/lib/python3.6/site-packages/pynbody/snapshot/__init__.py\", line 384, in __resolve_obscuring_family_array\n",
      "    name, in_fam, out_fam))\n",
      "KeyError: \"'smooth' is a family-level array for [<Family dm>]. To use it over the whole simulation you need either to delete it first, or create it separately for [<Family star>].\"\n",
      "\n",
      "Exception in thread Thread-259:\n",
      "Traceback (most recent call last):\n",
      "  File \"/usr/lib/python3.6/threading.py\", line 916, in _bootstrap_inner\n",
      "    self.run()\n",
      "  File \"/usr/lib/python3.6/threading.py\", line 864, in run\n",
      "    self._target(*self._args, **self._kwargs)\n",
      "  File \"/home/willlum/.local/lib/python3.6/site-packages/pynbody/sph/__init__.py\", line 440, in bridge\n",
      "    X = fn(*args[1:], **kwargs)\n",
      "  File \"/home/willlum/.local/lib/python3.6/site-packages/pynbody/sph/__init__.py\", line 422, in render_fn\n",
      "    base = fn(*args, **kwargs)\n",
      "  File \"/home/willlum/.local/lib/python3.6/site-packages/pynbody/sph/__init__.py\", line 572, in _render_image\n",
      "    snap_proxy[arname] = snap[arname]\n",
      "  File \"/home/willlum/.local/lib/python3.6/site-packages/pynbody/snapshot/__init__.py\", line 264, in __getitem__\n",
      "    return self._get_array_with_lazy_actions(i)\n",
      "  File \"/home/willlum/.local/lib/python3.6/site-packages/pynbody/snapshot/__init__.py\", line 351, in _get_array_with_lazy_actions\n",
      "    self.__resolve_obscuring_family_array(name)\n",
      "  File \"/home/willlum/.local/lib/python3.6/site-packages/pynbody/snapshot/__init__.py\", line 384, in __resolve_obscuring_family_array\n",
      "    name, in_fam, out_fam))\n",
      "KeyError: \"'smooth' is a family-level array for [<Family dm>]. To use it over the whole simulation you need either to delete it first, or create it separately for [<Family star>].\"\n",
      "\n",
      "Exception in thread Thread-260:\n",
      "Traceback (most recent call last):\n",
      "  File \"/usr/lib/python3.6/threading.py\", line 916, in _bootstrap_inner\n",
      "    self.run()\n",
      "  File \"/usr/lib/python3.6/threading.py\", line 864, in run\n",
      "    self._target(*self._args, **self._kwargs)\n",
      "  File \"/home/willlum/.local/lib/python3.6/site-packages/pynbody/sph/__init__.py\", line 440, in bridge\n",
      "    X = fn(*args[1:], **kwargs)\n",
      "  File \"/home/willlum/.local/lib/python3.6/site-packages/pynbody/sph/__init__.py\", line 422, in render_fn\n",
      "    base = fn(*args, **kwargs)\n",
      "  File \"/home/willlum/.local/lib/python3.6/site-packages/pynbody/sph/__init__.py\", line 572, in _render_image\n",
      "    snap_proxy[arname] = snap[arname]\n",
      "  File \"/home/willlum/.local/lib/python3.6/site-packages/pynbody/snapshot/__init__.py\", line 264, in __getitem__\n",
      "    return self._get_array_with_lazy_actions(i)\n",
      "  File \"/home/willlum/.local/lib/python3.6/site-packages/pynbody/snapshot/__init__.py\", line 351, in _get_array_with_lazy_actions\n",
      "    self.__resolve_obscuring_family_array(name)\n",
      "  File \"/home/willlum/.local/lib/python3.6/site-packages/pynbody/snapshot/__init__.py\", line 384, in __resolve_obscuring_family_array\n",
      "    name, in_fam, out_fam))\n",
      "KeyError: \"'smooth' is a family-level array for [<Family dm>]. To use it over the whole simulation you need either to delete it first, or create it separately for [<Family star>].\"\n",
      "\n"
     ]
    },
    {
     "ename": "RuntimeError",
     "evalue": "There was a problem with the multi-threaded image render. Try running again with threaded=False to debug the underlying error.",
     "output_type": "error",
     "traceback": [
      "\u001b[0;31m---------------------------------------------------------------------------\u001b[0m",
      "\u001b[0;31mRuntimeError\u001b[0m                              Traceback (most recent call last)",
      "\u001b[0;32m<ipython-input-134-11007481225a>\u001b[0m in \u001b[0;36m<module>\u001b[0;34m()\u001b[0m\n\u001b[1;32m      1\u001b[0m \u001b[0mpyn\u001b[0m\u001b[0;34m.\u001b[0m\u001b[0manalysis\u001b[0m\u001b[0;34m.\u001b[0m\u001b[0mangmom\u001b[0m\u001b[0;34m.\u001b[0m\u001b[0msideon\u001b[0m\u001b[0;34m(\u001b[0m\u001b[0mnoahSim\u001b[0m\u001b[0;34m)\u001b[0m\u001b[0;34m\u001b[0m\u001b[0;34m\u001b[0m\u001b[0m\n\u001b[0;32m----> 2\u001b[0;31m \u001b[0msph\u001b[0m\u001b[0;34m.\u001b[0m\u001b[0mimage\u001b[0m\u001b[0;34m(\u001b[0m\u001b[0mnoahSim\u001b[0m\u001b[0;34m,\u001b[0m\u001b[0mwidth\u001b[0m\u001b[0;34m=\u001b[0m\u001b[0;36m200\u001b[0m\u001b[0;34m,\u001b[0m\u001b[0mcmap\u001b[0m\u001b[0;34m=\u001b[0m\u001b[0;34m'Reds'\u001b[0m\u001b[0;34m)\u001b[0m\u001b[0;34m\u001b[0m\u001b[0;34m\u001b[0m\u001b[0m\n\u001b[0m",
      "\u001b[0;32m/home/willlum/.local/lib/python3.6/site-packages/pynbody/plot/sph.py\u001b[0m in \u001b[0;36mimage\u001b[0;34m(sim, qty, width, resolution, units, log, vmin, vmax, av_z, filename, z_camera, clear, cmap, title, qtytitle, show_cbar, subplot, noplot, ret_im, fill_nan, fill_val, linthresh, **kwargs)\u001b[0m\n\u001b[1;32m    421\u001b[0m     \u001b[0;32melse\u001b[0m\u001b[0;34m:\u001b[0m\u001b[0;34m\u001b[0m\u001b[0;34m\u001b[0m\u001b[0m\n\u001b[1;32m    422\u001b[0m         im = sph.render_image(sim, qty, width / 2, resolution, out_units=units,\n\u001b[0;32m--> 423\u001b[0;31m                               kernel=kernel,  z_camera=z_camera, **kwargs)\n\u001b[0m\u001b[1;32m    424\u001b[0m \u001b[0;34m\u001b[0m\u001b[0m\n\u001b[1;32m    425\u001b[0m     \u001b[0;32mif\u001b[0m \u001b[0mfill_nan\u001b[0m\u001b[0;34m:\u001b[0m\u001b[0;34m\u001b[0m\u001b[0;34m\u001b[0m\u001b[0m\n",
      "\u001b[0;32m/home/willlum/.local/lib/python3.6/site-packages/pynbody/sph/__init__.py\u001b[0m in \u001b[0;36mrender_image\u001b[0;34m(snap, qty, x2, nx, y2, ny, x1, y1, z_plane, out_units, xy_units, kernel, z_camera, smooth, smooth_in_pixels, force_quiet, approximate_fast, threaded, denoise)\u001b[0m\n\u001b[1;32m    531\u001b[0m                                     \u001b[0mout_units\u001b[0m\u001b[0;34m,\u001b[0m \u001b[0mxy_units\u001b[0m\u001b[0;34m,\u001b[0m \u001b[0mkernel\u001b[0m\u001b[0;34m,\u001b[0m \u001b[0mz_camera\u001b[0m\u001b[0;34m,\u001b[0m \u001b[0msmooth\u001b[0m\u001b[0;34m,\u001b[0m\u001b[0;34m\u001b[0m\u001b[0;34m\u001b[0m\u001b[0m\n\u001b[1;32m    532\u001b[0m                                     \u001b[0msmooth_in_pixels\u001b[0m\u001b[0;34m,\u001b[0m \u001b[0;32mTrue\u001b[0m\u001b[0;34m,\u001b[0m\u001b[0;34m\u001b[0m\u001b[0;34m\u001b[0m\u001b[0m\n\u001b[0;32m--> 533\u001b[0;31m                                     num_threads=threaded)\n\u001b[0m\u001b[1;32m    534\u001b[0m     \u001b[0;32melse\u001b[0m\u001b[0;34m:\u001b[0m\u001b[0;34m\u001b[0m\u001b[0;34m\u001b[0m\u001b[0m\n\u001b[1;32m    535\u001b[0m         im = base_renderer(snap, qty, x2, nx, y2, ny, x1, y1, z_plane,\n",
      "\u001b[0;32m/home/willlum/.local/lib/python3.6/site-packages/pynbody/sph/__init__.py\u001b[0m in \u001b[0;36m_threaded_render_image\u001b[0;34m(fn, s, *args, **kwargs)\u001b[0m\n\u001b[1;32m    404\u001b[0m     \u001b[0;31m# Each output is a 1-element list with a numpy array. Sum them.\u001b[0m\u001b[0;34m\u001b[0m\u001b[0;34m\u001b[0m\u001b[0;34m\u001b[0m\u001b[0m\n\u001b[1;32m    405\u001b[0m     \u001b[0;32mif\u001b[0m \u001b[0many\u001b[0m\u001b[0;34m(\u001b[0m\u001b[0;34m[\u001b[0m\u001b[0mlen\u001b[0m\u001b[0;34m(\u001b[0m\u001b[0mo\u001b[0m\u001b[0;34m)\u001b[0m\u001b[0;34m==\u001b[0m\u001b[0;36m0\u001b[0m \u001b[0;32mfor\u001b[0m \u001b[0mo\u001b[0m \u001b[0;32min\u001b[0m \u001b[0moutputs\u001b[0m\u001b[0;34m]\u001b[0m\u001b[0;34m)\u001b[0m\u001b[0;34m:\u001b[0m\u001b[0;34m\u001b[0m\u001b[0;34m\u001b[0m\u001b[0m\n\u001b[0;32m--> 406\u001b[0;31m         \u001b[0;32mraise\u001b[0m \u001b[0mRuntimeError\u001b[0m\u001b[0;34m(\u001b[0m\u001b[0;34m\"There was a problem with the multi-threaded image render. Try running again with threaded=False to debug the underlying error.\"\u001b[0m\u001b[0;34m)\u001b[0m\u001b[0;34m\u001b[0m\u001b[0;34m\u001b[0m\u001b[0m\n\u001b[0m\u001b[1;32m    407\u001b[0m     \u001b[0;32mreturn\u001b[0m \u001b[0msum\u001b[0m\u001b[0;34m(\u001b[0m\u001b[0;34m[\u001b[0m\u001b[0mo\u001b[0m\u001b[0;34m[\u001b[0m\u001b[0;36m0\u001b[0m\u001b[0;34m]\u001b[0m \u001b[0;32mfor\u001b[0m \u001b[0mo\u001b[0m \u001b[0;32min\u001b[0m \u001b[0moutputs\u001b[0m\u001b[0;34m]\u001b[0m\u001b[0;34m)\u001b[0m\u001b[0;34m\u001b[0m\u001b[0;34m\u001b[0m\u001b[0m\n\u001b[1;32m    408\u001b[0m \u001b[0;34m\u001b[0m\u001b[0m\n",
      "\u001b[0;31mRuntimeError\u001b[0m: There was a problem with the multi-threaded image render. Try running again with threaded=False to debug the underlying error."
     ]
    }
   ],
   "source": [
    "pyn.analysis.angmom.sideon(noahSim)\n",
    "sph.image(noahSim,width=200,cmap='Reds')"
   ]
  },
  {
   "cell_type": "code",
   "execution_count": 75,
   "metadata": {},
   "outputs": [
    {
     "name": "stderr",
     "output_type": "stream",
     "text": [
      "/home/willlum/.local/lib/python3.6/site-packages/pynbody/simdict.py:92: RuntimeWarning: Assuming default value for property 'a'=1.00e+00\n",
      "  name, value), RuntimeWarning)\n"
     ]
    }
   ],
   "source": []
  },
  {
   "cell_type": "code",
   "execution_count": 123,
   "metadata": {},
   "outputs": [
    {
     "data": {
      "text/plain": [
       "0.5656029937117503"
      ]
     },
     "execution_count": 123,
     "metadata": {},
     "output_type": "execute_result"
    }
   ],
   "source": [
    "np.random.random()"
   ]
  },
  {
   "cell_type": "code",
   "execution_count": null,
   "metadata": {},
   "outputs": [],
   "source": []
  },
  {
   "cell_type": "code",
   "execution_count": null,
   "metadata": {},
   "outputs": [],
   "source": []
  },
  {
   "cell_type": "code",
   "execution_count": null,
   "metadata": {},
   "outputs": [],
   "source": []
  },
  {
   "cell_type": "code",
   "execution_count": null,
   "metadata": {},
   "outputs": [],
   "source": []
  },
  {
   "cell_type": "code",
   "execution_count": null,
   "metadata": {},
   "outputs": [],
   "source": []
  }
 ],
 "metadata": {
  "kernelspec": {
   "display_name": "Python 3",
   "language": "python",
   "name": "python3"
  },
  "language_info": {
   "codemirror_mode": {
    "name": "ipython",
    "version": 3
   },
   "file_extension": ".py",
   "mimetype": "text/x-python",
   "name": "python",
   "nbconvert_exporter": "python",
   "pygments_lexer": "ipython3",
   "version": "3.6.8"
  }
 },
 "nbformat": 4,
 "nbformat_minor": 2
}
